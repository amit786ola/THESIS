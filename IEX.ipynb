{
 "cells": [
  {
   "cell_type": "code",
   "execution_count": 1,
   "id": "4a298f17",
   "metadata": {},
   "outputs": [],
   "source": [
    "import numpy as np\n",
    "import pandas as pd\n",
    "import seaborn as sns\n",
    "\n",
    "import matplotlib.pyplot as plt\n",
    "%matplotlib inline"
   ]
  },
  {
   "cell_type": "code",
   "execution_count": 2,
   "id": "b787b7ab",
   "metadata": {},
   "outputs": [],
   "source": [
    "df=pd.read_csv('final_IEX.hourlydata.csv')"
   ]
  },
  {
   "cell_type": "code",
   "execution_count": 3,
   "id": "f5b5e911",
   "metadata": {},
   "outputs": [
    {
     "data": {
      "text/html": [
       "<div>\n",
       "<style scoped>\n",
       "    .dataframe tbody tr th:only-of-type {\n",
       "        vertical-align: middle;\n",
       "    }\n",
       "\n",
       "    .dataframe tbody tr th {\n",
       "        vertical-align: top;\n",
       "    }\n",
       "\n",
       "    .dataframe thead th {\n",
       "        text-align: right;\n",
       "    }\n",
       "</style>\n",
       "<table border=\"1\" class=\"dataframe\">\n",
       "  <thead>\n",
       "    <tr style=\"text-align: right;\">\n",
       "      <th></th>\n",
       "      <th>Total_Time</th>\n",
       "      <th>Date | Hour Block</th>\n",
       "      <th>A1</th>\n",
       "      <th>A2</th>\n",
       "      <th>E1</th>\n",
       "      <th>E2</th>\n",
       "      <th>N1</th>\n",
       "      <th>N2</th>\n",
       "      <th>N3</th>\n",
       "      <th>S1</th>\n",
       "      <th>S2</th>\n",
       "      <th>S3</th>\n",
       "      <th>W1</th>\n",
       "      <th>W2</th>\n",
       "      <th>W3</th>\n",
       "      <th>MCP</th>\n",
       "    </tr>\n",
       "  </thead>\n",
       "  <tbody>\n",
       "    <tr>\n",
       "      <th>0</th>\n",
       "      <td>1</td>\n",
       "      <td>01-01-19 00:00</td>\n",
       "      <td>2165.89</td>\n",
       "      <td>2165.89</td>\n",
       "      <td>2165.89</td>\n",
       "      <td>2165.89</td>\n",
       "      <td>2165.89</td>\n",
       "      <td>2165.89</td>\n",
       "      <td>2165.89</td>\n",
       "      <td>2165.89</td>\n",
       "      <td>2165.89</td>\n",
       "      <td>2165.89</td>\n",
       "      <td>2165.89</td>\n",
       "      <td>2165.89</td>\n",
       "      <td>2165.89</td>\n",
       "      <td>2160.74</td>\n",
       "    </tr>\n",
       "    <tr>\n",
       "      <th>1</th>\n",
       "      <td>2</td>\n",
       "      <td>01-01-19 01:00</td>\n",
       "      <td>1682.30</td>\n",
       "      <td>1682.30</td>\n",
       "      <td>1682.30</td>\n",
       "      <td>1682.30</td>\n",
       "      <td>1682.30</td>\n",
       "      <td>1682.30</td>\n",
       "      <td>1682.30</td>\n",
       "      <td>1682.30</td>\n",
       "      <td>1682.30</td>\n",
       "      <td>1784.85</td>\n",
       "      <td>1682.30</td>\n",
       "      <td>1682.30</td>\n",
       "      <td>1682.30</td>\n",
       "      <td>1688.78</td>\n",
       "    </tr>\n",
       "    <tr>\n",
       "      <th>2</th>\n",
       "      <td>3</td>\n",
       "      <td>01-01-19 02:00</td>\n",
       "      <td>1550.42</td>\n",
       "      <td>1550.42</td>\n",
       "      <td>1550.42</td>\n",
       "      <td>1550.42</td>\n",
       "      <td>1550.42</td>\n",
       "      <td>1550.42</td>\n",
       "      <td>1550.42</td>\n",
       "      <td>1550.42</td>\n",
       "      <td>1550.42</td>\n",
       "      <td>1550.42</td>\n",
       "      <td>1550.42</td>\n",
       "      <td>1550.42</td>\n",
       "      <td>1550.42</td>\n",
       "      <td>1550.12</td>\n",
       "    </tr>\n",
       "    <tr>\n",
       "      <th>3</th>\n",
       "      <td>4</td>\n",
       "      <td>01-01-19 03:00</td>\n",
       "      <td>1676.70</td>\n",
       "      <td>1676.70</td>\n",
       "      <td>1676.70</td>\n",
       "      <td>1676.70</td>\n",
       "      <td>1676.70</td>\n",
       "      <td>1676.70</td>\n",
       "      <td>1676.70</td>\n",
       "      <td>1676.70</td>\n",
       "      <td>1676.70</td>\n",
       "      <td>1676.70</td>\n",
       "      <td>1676.70</td>\n",
       "      <td>1676.70</td>\n",
       "      <td>1676.70</td>\n",
       "      <td>1675.84</td>\n",
       "    </tr>\n",
       "    <tr>\n",
       "      <th>4</th>\n",
       "      <td>5</td>\n",
       "      <td>01-01-19 04:00</td>\n",
       "      <td>1842.05</td>\n",
       "      <td>1842.05</td>\n",
       "      <td>1842.05</td>\n",
       "      <td>1842.05</td>\n",
       "      <td>1842.05</td>\n",
       "      <td>1842.05</td>\n",
       "      <td>1842.05</td>\n",
       "      <td>1842.05</td>\n",
       "      <td>1842.05</td>\n",
       "      <td>1842.05</td>\n",
       "      <td>1842.05</td>\n",
       "      <td>1842.05</td>\n",
       "      <td>1842.05</td>\n",
       "      <td>1841.83</td>\n",
       "    </tr>\n",
       "    <tr>\n",
       "      <th>...</th>\n",
       "      <td>...</td>\n",
       "      <td>...</td>\n",
       "      <td>...</td>\n",
       "      <td>...</td>\n",
       "      <td>...</td>\n",
       "      <td>...</td>\n",
       "      <td>...</td>\n",
       "      <td>...</td>\n",
       "      <td>...</td>\n",
       "      <td>...</td>\n",
       "      <td>...</td>\n",
       "      <td>...</td>\n",
       "      <td>...</td>\n",
       "      <td>...</td>\n",
       "      <td>...</td>\n",
       "      <td>...</td>\n",
       "    </tr>\n",
       "    <tr>\n",
       "      <th>23179</th>\n",
       "      <td>23180</td>\n",
       "      <td>23-08-21 19:00</td>\n",
       "      <td>9770.61</td>\n",
       "      <td>9770.61</td>\n",
       "      <td>9770.61</td>\n",
       "      <td>9770.61</td>\n",
       "      <td>9770.61</td>\n",
       "      <td>9770.61</td>\n",
       "      <td>9770.61</td>\n",
       "      <td>9770.61</td>\n",
       "      <td>9770.61</td>\n",
       "      <td>9770.61</td>\n",
       "      <td>9770.61</td>\n",
       "      <td>9770.61</td>\n",
       "      <td>9770.61</td>\n",
       "      <td>9770.61</td>\n",
       "    </tr>\n",
       "    <tr>\n",
       "      <th>23180</th>\n",
       "      <td>23181</td>\n",
       "      <td>23-08-21 20:00</td>\n",
       "      <td>9011.34</td>\n",
       "      <td>9011.34</td>\n",
       "      <td>9011.34</td>\n",
       "      <td>9011.34</td>\n",
       "      <td>9011.34</td>\n",
       "      <td>9011.34</td>\n",
       "      <td>9011.34</td>\n",
       "      <td>9011.34</td>\n",
       "      <td>9011.34</td>\n",
       "      <td>9011.34</td>\n",
       "      <td>9011.34</td>\n",
       "      <td>9011.34</td>\n",
       "      <td>9011.34</td>\n",
       "      <td>9011.34</td>\n",
       "    </tr>\n",
       "    <tr>\n",
       "      <th>23181</th>\n",
       "      <td>23182</td>\n",
       "      <td>23-08-21 21:00</td>\n",
       "      <td>8962.14</td>\n",
       "      <td>8962.14</td>\n",
       "      <td>8962.14</td>\n",
       "      <td>8962.14</td>\n",
       "      <td>8962.14</td>\n",
       "      <td>8962.14</td>\n",
       "      <td>8962.14</td>\n",
       "      <td>8962.14</td>\n",
       "      <td>8962.14</td>\n",
       "      <td>8962.14</td>\n",
       "      <td>8962.14</td>\n",
       "      <td>8962.14</td>\n",
       "      <td>8962.14</td>\n",
       "      <td>8962.14</td>\n",
       "    </tr>\n",
       "    <tr>\n",
       "      <th>23182</th>\n",
       "      <td>23183</td>\n",
       "      <td>23-08-21 22:00</td>\n",
       "      <td>8417.83</td>\n",
       "      <td>8417.83</td>\n",
       "      <td>8417.83</td>\n",
       "      <td>8417.83</td>\n",
       "      <td>8417.83</td>\n",
       "      <td>8417.83</td>\n",
       "      <td>8417.83</td>\n",
       "      <td>8417.83</td>\n",
       "      <td>8417.83</td>\n",
       "      <td>8417.83</td>\n",
       "      <td>8417.83</td>\n",
       "      <td>8417.83</td>\n",
       "      <td>8417.83</td>\n",
       "      <td>8417.83</td>\n",
       "    </tr>\n",
       "    <tr>\n",
       "      <th>23183</th>\n",
       "      <td>23184</td>\n",
       "      <td>23-08-21 23:00</td>\n",
       "      <td>4892.08</td>\n",
       "      <td>4892.08</td>\n",
       "      <td>4892.08</td>\n",
       "      <td>4892.08</td>\n",
       "      <td>4892.08</td>\n",
       "      <td>4892.08</td>\n",
       "      <td>4892.08</td>\n",
       "      <td>4892.08</td>\n",
       "      <td>4892.08</td>\n",
       "      <td>4892.08</td>\n",
       "      <td>4892.08</td>\n",
       "      <td>4892.08</td>\n",
       "      <td>4892.08</td>\n",
       "      <td>4892.08</td>\n",
       "    </tr>\n",
       "  </tbody>\n",
       "</table>\n",
       "<p>23184 rows × 16 columns</p>\n",
       "</div>"
      ],
      "text/plain": [
       "       Total_Time Date | Hour Block       A1       A2       E1       E2  \\\n",
       "0               1    01-01-19 00:00  2165.89  2165.89  2165.89  2165.89   \n",
       "1               2    01-01-19 01:00  1682.30  1682.30  1682.30  1682.30   \n",
       "2               3    01-01-19 02:00  1550.42  1550.42  1550.42  1550.42   \n",
       "3               4    01-01-19 03:00  1676.70  1676.70  1676.70  1676.70   \n",
       "4               5    01-01-19 04:00  1842.05  1842.05  1842.05  1842.05   \n",
       "...           ...               ...      ...      ...      ...      ...   \n",
       "23179       23180    23-08-21 19:00  9770.61  9770.61  9770.61  9770.61   \n",
       "23180       23181    23-08-21 20:00  9011.34  9011.34  9011.34  9011.34   \n",
       "23181       23182    23-08-21 21:00  8962.14  8962.14  8962.14  8962.14   \n",
       "23182       23183    23-08-21 22:00  8417.83  8417.83  8417.83  8417.83   \n",
       "23183       23184    23-08-21 23:00  4892.08  4892.08  4892.08  4892.08   \n",
       "\n",
       "            N1       N2       N3       S1       S2       S3       W1       W2  \\\n",
       "0      2165.89  2165.89  2165.89  2165.89  2165.89  2165.89  2165.89  2165.89   \n",
       "1      1682.30  1682.30  1682.30  1682.30  1682.30  1784.85  1682.30  1682.30   \n",
       "2      1550.42  1550.42  1550.42  1550.42  1550.42  1550.42  1550.42  1550.42   \n",
       "3      1676.70  1676.70  1676.70  1676.70  1676.70  1676.70  1676.70  1676.70   \n",
       "4      1842.05  1842.05  1842.05  1842.05  1842.05  1842.05  1842.05  1842.05   \n",
       "...        ...      ...      ...      ...      ...      ...      ...      ...   \n",
       "23179  9770.61  9770.61  9770.61  9770.61  9770.61  9770.61  9770.61  9770.61   \n",
       "23180  9011.34  9011.34  9011.34  9011.34  9011.34  9011.34  9011.34  9011.34   \n",
       "23181  8962.14  8962.14  8962.14  8962.14  8962.14  8962.14  8962.14  8962.14   \n",
       "23182  8417.83  8417.83  8417.83  8417.83  8417.83  8417.83  8417.83  8417.83   \n",
       "23183  4892.08  4892.08  4892.08  4892.08  4892.08  4892.08  4892.08  4892.08   \n",
       "\n",
       "            W3      MCP  \n",
       "0      2165.89  2160.74  \n",
       "1      1682.30  1688.78  \n",
       "2      1550.42  1550.12  \n",
       "3      1676.70  1675.84  \n",
       "4      1842.05  1841.83  \n",
       "...        ...      ...  \n",
       "23179  9770.61  9770.61  \n",
       "23180  9011.34  9011.34  \n",
       "23181  8962.14  8962.14  \n",
       "23182  8417.83  8417.83  \n",
       "23183  4892.08  4892.08  \n",
       "\n",
       "[23184 rows x 16 columns]"
      ]
     },
     "execution_count": 3,
     "metadata": {},
     "output_type": "execute_result"
    }
   ],
   "source": [
    "df"
   ]
  },
  {
   "cell_type": "code",
   "execution_count": 4,
   "id": "33374171",
   "metadata": {},
   "outputs": [
    {
     "data": {
      "text/plain": [
       "Total_Time           0\n",
       "Date | Hour Block    0\n",
       "A1                   0\n",
       "A2                   0\n",
       "E1                   0\n",
       "E2                   0\n",
       "N1                   0\n",
       "N2                   0\n",
       "N3                   0\n",
       "S1                   0\n",
       "S2                   0\n",
       "S3                   0\n",
       "W1                   0\n",
       "W2                   0\n",
       "W3                   0\n",
       "MCP                  0\n",
       "dtype: int64"
      ]
     },
     "execution_count": 4,
     "metadata": {},
     "output_type": "execute_result"
    }
   ],
   "source": [
    "df.isnull().sum()#there is not any null value in data"
   ]
  },
  {
   "cell_type": "code",
   "execution_count": 5,
   "id": "e8ddc016",
   "metadata": {},
   "outputs": [],
   "source": [
    "df.set_index('Total_Time',inplace=True)"
   ]
  },
  {
   "cell_type": "code",
   "execution_count": 6,
   "id": "5f433c4b",
   "metadata": {},
   "outputs": [
    {
     "data": {
      "text/html": [
       "<div>\n",
       "<style scoped>\n",
       "    .dataframe tbody tr th:only-of-type {\n",
       "        vertical-align: middle;\n",
       "    }\n",
       "\n",
       "    .dataframe tbody tr th {\n",
       "        vertical-align: top;\n",
       "    }\n",
       "\n",
       "    .dataframe thead th {\n",
       "        text-align: right;\n",
       "    }\n",
       "</style>\n",
       "<table border=\"1\" class=\"dataframe\">\n",
       "  <thead>\n",
       "    <tr style=\"text-align: right;\">\n",
       "      <th></th>\n",
       "      <th>A1</th>\n",
       "      <th>A2</th>\n",
       "      <th>E1</th>\n",
       "      <th>E2</th>\n",
       "      <th>N1</th>\n",
       "      <th>N2</th>\n",
       "      <th>N3</th>\n",
       "      <th>S1</th>\n",
       "      <th>S2</th>\n",
       "      <th>S3</th>\n",
       "      <th>W1</th>\n",
       "      <th>W2</th>\n",
       "      <th>W3</th>\n",
       "      <th>MCP</th>\n",
       "    </tr>\n",
       "  </thead>\n",
       "  <tbody>\n",
       "    <tr>\n",
       "      <th>A1</th>\n",
       "      <td>1.000000</td>\n",
       "      <td>1.000000</td>\n",
       "      <td>0.999998</td>\n",
       "      <td>0.999998</td>\n",
       "      <td>0.995669</td>\n",
       "      <td>0.995669</td>\n",
       "      <td>0.995669</td>\n",
       "      <td>0.962891</td>\n",
       "      <td>0.962040</td>\n",
       "      <td>0.961364</td>\n",
       "      <td>0.999998</td>\n",
       "      <td>0.999998</td>\n",
       "      <td>0.999998</td>\n",
       "      <td>0.998045</td>\n",
       "    </tr>\n",
       "    <tr>\n",
       "      <th>A2</th>\n",
       "      <td>1.000000</td>\n",
       "      <td>1.000000</td>\n",
       "      <td>0.999998</td>\n",
       "      <td>0.999998</td>\n",
       "      <td>0.995669</td>\n",
       "      <td>0.995669</td>\n",
       "      <td>0.995669</td>\n",
       "      <td>0.962891</td>\n",
       "      <td>0.962040</td>\n",
       "      <td>0.961364</td>\n",
       "      <td>0.999998</td>\n",
       "      <td>0.999998</td>\n",
       "      <td>0.999998</td>\n",
       "      <td>0.998045</td>\n",
       "    </tr>\n",
       "    <tr>\n",
       "      <th>E1</th>\n",
       "      <td>0.999998</td>\n",
       "      <td>0.999998</td>\n",
       "      <td>1.000000</td>\n",
       "      <td>1.000000</td>\n",
       "      <td>0.995641</td>\n",
       "      <td>0.995641</td>\n",
       "      <td>0.995641</td>\n",
       "      <td>0.962894</td>\n",
       "      <td>0.962042</td>\n",
       "      <td>0.961367</td>\n",
       "      <td>1.000000</td>\n",
       "      <td>1.000000</td>\n",
       "      <td>1.000000</td>\n",
       "      <td>0.998032</td>\n",
       "    </tr>\n",
       "    <tr>\n",
       "      <th>E2</th>\n",
       "      <td>0.999998</td>\n",
       "      <td>0.999998</td>\n",
       "      <td>1.000000</td>\n",
       "      <td>1.000000</td>\n",
       "      <td>0.995641</td>\n",
       "      <td>0.995641</td>\n",
       "      <td>0.995641</td>\n",
       "      <td>0.962894</td>\n",
       "      <td>0.962042</td>\n",
       "      <td>0.961367</td>\n",
       "      <td>1.000000</td>\n",
       "      <td>1.000000</td>\n",
       "      <td>1.000000</td>\n",
       "      <td>0.998032</td>\n",
       "    </tr>\n",
       "    <tr>\n",
       "      <th>N1</th>\n",
       "      <td>0.995669</td>\n",
       "      <td>0.995669</td>\n",
       "      <td>0.995641</td>\n",
       "      <td>0.995641</td>\n",
       "      <td>1.000000</td>\n",
       "      <td>1.000000</td>\n",
       "      <td>1.000000</td>\n",
       "      <td>0.958496</td>\n",
       "      <td>0.957646</td>\n",
       "      <td>0.956969</td>\n",
       "      <td>0.995641</td>\n",
       "      <td>0.995641</td>\n",
       "      <td>0.995641</td>\n",
       "      <td>0.995806</td>\n",
       "    </tr>\n",
       "    <tr>\n",
       "      <th>N2</th>\n",
       "      <td>0.995669</td>\n",
       "      <td>0.995669</td>\n",
       "      <td>0.995641</td>\n",
       "      <td>0.995641</td>\n",
       "      <td>1.000000</td>\n",
       "      <td>1.000000</td>\n",
       "      <td>1.000000</td>\n",
       "      <td>0.958496</td>\n",
       "      <td>0.957646</td>\n",
       "      <td>0.956969</td>\n",
       "      <td>0.995641</td>\n",
       "      <td>0.995641</td>\n",
       "      <td>0.995641</td>\n",
       "      <td>0.995806</td>\n",
       "    </tr>\n",
       "    <tr>\n",
       "      <th>N3</th>\n",
       "      <td>0.995669</td>\n",
       "      <td>0.995669</td>\n",
       "      <td>0.995641</td>\n",
       "      <td>0.995641</td>\n",
       "      <td>1.000000</td>\n",
       "      <td>1.000000</td>\n",
       "      <td>1.000000</td>\n",
       "      <td>0.958496</td>\n",
       "      <td>0.957646</td>\n",
       "      <td>0.956969</td>\n",
       "      <td>0.995641</td>\n",
       "      <td>0.995641</td>\n",
       "      <td>0.995641</td>\n",
       "      <td>0.995806</td>\n",
       "    </tr>\n",
       "    <tr>\n",
       "      <th>S1</th>\n",
       "      <td>0.962891</td>\n",
       "      <td>0.962891</td>\n",
       "      <td>0.962894</td>\n",
       "      <td>0.962894</td>\n",
       "      <td>0.958496</td>\n",
       "      <td>0.958496</td>\n",
       "      <td>0.958496</td>\n",
       "      <td>1.000000</td>\n",
       "      <td>0.999332</td>\n",
       "      <td>0.998556</td>\n",
       "      <td>0.962894</td>\n",
       "      <td>0.962894</td>\n",
       "      <td>0.962894</td>\n",
       "      <td>0.973087</td>\n",
       "    </tr>\n",
       "    <tr>\n",
       "      <th>S2</th>\n",
       "      <td>0.962040</td>\n",
       "      <td>0.962040</td>\n",
       "      <td>0.962042</td>\n",
       "      <td>0.962042</td>\n",
       "      <td>0.957646</td>\n",
       "      <td>0.957646</td>\n",
       "      <td>0.957646</td>\n",
       "      <td>0.999332</td>\n",
       "      <td>1.000000</td>\n",
       "      <td>0.999223</td>\n",
       "      <td>0.962042</td>\n",
       "      <td>0.962042</td>\n",
       "      <td>0.962042</td>\n",
       "      <td>0.972310</td>\n",
       "    </tr>\n",
       "    <tr>\n",
       "      <th>S3</th>\n",
       "      <td>0.961364</td>\n",
       "      <td>0.961364</td>\n",
       "      <td>0.961367</td>\n",
       "      <td>0.961367</td>\n",
       "      <td>0.956969</td>\n",
       "      <td>0.956969</td>\n",
       "      <td>0.956969</td>\n",
       "      <td>0.998556</td>\n",
       "      <td>0.999223</td>\n",
       "      <td>1.000000</td>\n",
       "      <td>0.961367</td>\n",
       "      <td>0.961367</td>\n",
       "      <td>0.961367</td>\n",
       "      <td>0.971629</td>\n",
       "    </tr>\n",
       "    <tr>\n",
       "      <th>W1</th>\n",
       "      <td>0.999998</td>\n",
       "      <td>0.999998</td>\n",
       "      <td>1.000000</td>\n",
       "      <td>1.000000</td>\n",
       "      <td>0.995641</td>\n",
       "      <td>0.995641</td>\n",
       "      <td>0.995641</td>\n",
       "      <td>0.962894</td>\n",
       "      <td>0.962042</td>\n",
       "      <td>0.961367</td>\n",
       "      <td>1.000000</td>\n",
       "      <td>1.000000</td>\n",
       "      <td>1.000000</td>\n",
       "      <td>0.998032</td>\n",
       "    </tr>\n",
       "    <tr>\n",
       "      <th>W2</th>\n",
       "      <td>0.999998</td>\n",
       "      <td>0.999998</td>\n",
       "      <td>1.000000</td>\n",
       "      <td>1.000000</td>\n",
       "      <td>0.995641</td>\n",
       "      <td>0.995641</td>\n",
       "      <td>0.995641</td>\n",
       "      <td>0.962894</td>\n",
       "      <td>0.962042</td>\n",
       "      <td>0.961367</td>\n",
       "      <td>1.000000</td>\n",
       "      <td>1.000000</td>\n",
       "      <td>1.000000</td>\n",
       "      <td>0.998032</td>\n",
       "    </tr>\n",
       "    <tr>\n",
       "      <th>W3</th>\n",
       "      <td>0.999998</td>\n",
       "      <td>0.999998</td>\n",
       "      <td>1.000000</td>\n",
       "      <td>1.000000</td>\n",
       "      <td>0.995641</td>\n",
       "      <td>0.995641</td>\n",
       "      <td>0.995641</td>\n",
       "      <td>0.962894</td>\n",
       "      <td>0.962042</td>\n",
       "      <td>0.961367</td>\n",
       "      <td>1.000000</td>\n",
       "      <td>1.000000</td>\n",
       "      <td>1.000000</td>\n",
       "      <td>0.998032</td>\n",
       "    </tr>\n",
       "    <tr>\n",
       "      <th>MCP</th>\n",
       "      <td>0.998045</td>\n",
       "      <td>0.998045</td>\n",
       "      <td>0.998032</td>\n",
       "      <td>0.998032</td>\n",
       "      <td>0.995806</td>\n",
       "      <td>0.995806</td>\n",
       "      <td>0.995806</td>\n",
       "      <td>0.973087</td>\n",
       "      <td>0.972310</td>\n",
       "      <td>0.971629</td>\n",
       "      <td>0.998032</td>\n",
       "      <td>0.998032</td>\n",
       "      <td>0.998032</td>\n",
       "      <td>1.000000</td>\n",
       "    </tr>\n",
       "  </tbody>\n",
       "</table>\n",
       "</div>"
      ],
      "text/plain": [
       "           A1        A2        E1        E2        N1        N2        N3  \\\n",
       "A1   1.000000  1.000000  0.999998  0.999998  0.995669  0.995669  0.995669   \n",
       "A2   1.000000  1.000000  0.999998  0.999998  0.995669  0.995669  0.995669   \n",
       "E1   0.999998  0.999998  1.000000  1.000000  0.995641  0.995641  0.995641   \n",
       "E2   0.999998  0.999998  1.000000  1.000000  0.995641  0.995641  0.995641   \n",
       "N1   0.995669  0.995669  0.995641  0.995641  1.000000  1.000000  1.000000   \n",
       "N2   0.995669  0.995669  0.995641  0.995641  1.000000  1.000000  1.000000   \n",
       "N3   0.995669  0.995669  0.995641  0.995641  1.000000  1.000000  1.000000   \n",
       "S1   0.962891  0.962891  0.962894  0.962894  0.958496  0.958496  0.958496   \n",
       "S2   0.962040  0.962040  0.962042  0.962042  0.957646  0.957646  0.957646   \n",
       "S3   0.961364  0.961364  0.961367  0.961367  0.956969  0.956969  0.956969   \n",
       "W1   0.999998  0.999998  1.000000  1.000000  0.995641  0.995641  0.995641   \n",
       "W2   0.999998  0.999998  1.000000  1.000000  0.995641  0.995641  0.995641   \n",
       "W3   0.999998  0.999998  1.000000  1.000000  0.995641  0.995641  0.995641   \n",
       "MCP  0.998045  0.998045  0.998032  0.998032  0.995806  0.995806  0.995806   \n",
       "\n",
       "           S1        S2        S3        W1        W2        W3       MCP  \n",
       "A1   0.962891  0.962040  0.961364  0.999998  0.999998  0.999998  0.998045  \n",
       "A2   0.962891  0.962040  0.961364  0.999998  0.999998  0.999998  0.998045  \n",
       "E1   0.962894  0.962042  0.961367  1.000000  1.000000  1.000000  0.998032  \n",
       "E2   0.962894  0.962042  0.961367  1.000000  1.000000  1.000000  0.998032  \n",
       "N1   0.958496  0.957646  0.956969  0.995641  0.995641  0.995641  0.995806  \n",
       "N2   0.958496  0.957646  0.956969  0.995641  0.995641  0.995641  0.995806  \n",
       "N3   0.958496  0.957646  0.956969  0.995641  0.995641  0.995641  0.995806  \n",
       "S1   1.000000  0.999332  0.998556  0.962894  0.962894  0.962894  0.973087  \n",
       "S2   0.999332  1.000000  0.999223  0.962042  0.962042  0.962042  0.972310  \n",
       "S3   0.998556  0.999223  1.000000  0.961367  0.961367  0.961367  0.971629  \n",
       "W1   0.962894  0.962042  0.961367  1.000000  1.000000  1.000000  0.998032  \n",
       "W2   0.962894  0.962042  0.961367  1.000000  1.000000  1.000000  0.998032  \n",
       "W3   0.962894  0.962042  0.961367  1.000000  1.000000  1.000000  0.998032  \n",
       "MCP  0.973087  0.972310  0.971629  0.998032  0.998032  0.998032  1.000000  "
      ]
     },
     "execution_count": 6,
     "metadata": {},
     "output_type": "execute_result"
    }
   ],
   "source": [
    "df.corr()"
   ]
  },
  {
   "cell_type": "markdown",
   "id": "194e3306",
   "metadata": {},
   "source": [
    "Correlation coefficient is greater than 0.96 thats mean that electricity prices are almost same for every region so i will \n",
    "do further analysis on the basis of market clearing price(MCP)of electricity, instead of electricity price in every region"
   ]
  },
  {
   "cell_type": "code",
   "execution_count": 34,
   "id": "b23a9f52",
   "metadata": {},
   "outputs": [
    {
     "data": {
      "text/plain": [
       "[<matplotlib.lines.Line2D at 0x22eb125ddf0>]"
      ]
     },
     "execution_count": 34,
     "metadata": {},
     "output_type": "execute_result"
    },
    {
     "data": {
      "image/png": "[encoded data removed]",
      "text/plain": [
       "<Figure size 432x288 with 1 Axes>"
      ]
     },
     "metadata": {
      "needs_background": "light"
     },
     "output_type": "display_data"
    }
   ],
   "source": [
    "df1=df.iloc[:24,:]#1 day(24 hours)\n",
    "plt.plot(df1['MCP'])"
   ]
  },
  {
   "cell_type": "code",
   "execution_count": 35,
   "id": "d1211ea9",
   "metadata": {},
   "outputs": [],
   "source": [
    "#intra-day hourly seasonality"
   ]
  },
  {
   "cell_type": "code",
   "execution_count": 36,
   "id": "2203ca48",
   "metadata": {},
   "outputs": [
    {
     "data": {
      "text/plain": [
       "[<matplotlib.lines.Line2D at 0x22eb12b1af0>]"
      ]
     },
     "execution_count": 36,
     "metadata": {},
     "output_type": "execute_result"
    },
    {
     "data": {
      "image/png": "[encoded data removed]",
      "text/plain": [
       "<Figure size 432x288 with 1 Axes>"
      ]
     },
     "metadata": {
      "needs_background": "light"
     },
     "output_type": "display_data"
    }
   ],
   "source": [
    "df1=df.iloc[:48,:]#2 days\n",
    "plt.plot(df1['A1'])"
   ]
  },
  {
   "cell_type": "code",
   "execution_count": 41,
   "id": "407fc668",
   "metadata": {},
   "outputs": [
    {
     "data": {
      "text/plain": [
       "[<matplotlib.lines.Line2D at 0x22eb11af3d0>]"
      ]
     },
     "execution_count": 41,
     "metadata": {},
     "output_type": "execute_result"
    },
    {
     "data": {
      "image/png": "[encoded data removed]",
      "text/plain": [
       "<Figure size 432x288 with 1 Axes>"
      ]
     },
     "metadata": {
      "needs_background": "light"
     },
     "output_type": "display_data"
    }
   ],
   "source": [
    "df1=df.iloc[:96,:]#4 days\n",
    "plt.plot(df1['MCP'])"
   ]
  },
  {
   "cell_type": "code",
   "execution_count": 42,
   "id": "f6fd1845",
   "metadata": {},
   "outputs": [],
   "source": [
    "#inter-days seasonality -same pattern repeated for each day "
   ]
  },
  {
   "cell_type": "code",
   "execution_count": 43,
   "id": "109d6eaf",
   "metadata": {},
   "outputs": [
    {
     "data": {
      "text/plain": [
       "[<matplotlib.lines.Line2D at 0x22eb5003be0>]"
      ]
     },
     "execution_count": 43,
     "metadata": {},
     "output_type": "execute_result"
    },
    {
     "data": {
      "image/png": "[encoded data removed]",
      "text/plain": [
       "<Figure size 432x288 with 1 Axes>"
      ]
     },
     "metadata": {
      "needs_background": "light"
     },
     "output_type": "display_data"
    }
   ],
   "source": [
    "df1=df.iloc[:720,:]#1 month\n",
    "plt.plot(df1['MCP'])"
   ]
  },
  {
   "cell_type": "code",
   "execution_count": 44,
   "id": "7bc6bbbe",
   "metadata": {},
   "outputs": [
    {
     "data": {
      "text/plain": [
       "[<matplotlib.lines.Line2D at 0x22eb5070a30>]"
      ]
     },
     "execution_count": 44,
     "metadata": {},
     "output_type": "execute_result"
    },
    {
     "data": {
      "image/png": "[encoded data removed]",
      "text/plain": [
       "<Figure size 432x288 with 1 Axes>"
      ]
     },
     "metadata": {
      "needs_background": "light"
     },
     "output_type": "display_data"
    }
   ],
   "source": [
    "plt.plot(df['MCP'])"
   ]
  },
  {
   "cell_type": "markdown",
   "id": "c789cffd",
   "metadata": {},
   "source": [
    "# Testing For Stationarity\n",
    "\n"
   ]
  },
  {
   "cell_type": "markdown",
   "id": "66e1db82",
   "metadata": {},
   "source": [
    "## ADF Test "
   ]
  },
  {
   "cell_type": "code",
   "execution_count": 45,
   "id": "3bd515f3",
   "metadata": {},
   "outputs": [],
   "source": [
    "from statsmodels.tsa.stattools import adfuller"
   ]
  },
  {
   "cell_type": "code",
   "execution_count": 46,
   "id": "ff0cec76",
   "metadata": {},
   "outputs": [],
   "source": [
    "#Ho: It is non stationary\n",
    "#H1: It is stationary\n",
    "\n",
    "def adfuller_test(mcp):\n",
    "    result=adfuller(mcp)\n",
    "    labels = ['ADF Test Statistic','p-value','#Lags Used','Number of Observations Used']\n",
    "    for value,label in zip(result,labels,):\n",
    "        print(label+' : '+str(value) )\n",
    "    if result[1] <= 0.05:\n",
    "        print(\"strong evidence against the null hypothesis(Ho), reject the null hypothesis. Data has no unit root and is stationary\")\n",
    "    else:\n",
    "        print(\"weak evidence against null hypothesis, time series has a unit root, indicating it is non-stationary \")"
   ]
  },
  {
   "cell_type": "code",
   "execution_count": 47,
   "id": "a27efd0f",
   "metadata": {},
   "outputs": [
    {
     "name": "stdout",
     "output_type": "stream",
     "text": [
      "ADF Test Statistic : -6.069252036588619\n",
      "p-value : 1.1615090045186248e-07\n",
      "#Lags Used : 47\n",
      "Number of Observations Used : 23112\n",
      "strong evidence against the null hypothesis(Ho), reject the null hypothesis. Data has no unit root and is stationary\n"
     ]
    }
   ],
   "source": [
    "adfuller_test(df[\"MCP\"])"
   ]
  },
  {
   "cell_type": "markdown",
   "id": "e98f10c9",
   "metadata": {},
   "source": [
    "## KPSS Test"
   ]
  },
  {
   "cell_type": "code",
   "execution_count": 48,
   "id": "598e2746",
   "metadata": {},
   "outputs": [],
   "source": [
    "from statsmodels.tsa.stattools import kpss"
   ]
  },
  {
   "cell_type": "code",
   "execution_count": 49,
   "id": "d2a99e24",
   "metadata": {},
   "outputs": [],
   "source": [
    "#Null Hypothesis (HO): Series is trend stationary or series has no unit root\n",
    "#Alternate Hypothesis(HA): Series is non-stationary or series has a unit root.\n",
    "def kpss_test(timeseries):\n",
    "    print ('Results of KPSS Test:')\n",
    "    kpsstest = kpss(timeseries, regression='c', nlags=\"auto\")\n",
    "    kpss_output = pd.Series(kpsstest[0:3], index=['Test Statistic','p-value','#Lags Used'])\n",
    "    for key,value in kpsstest[3].items():\n",
    "        kpss_output['Critical Value (%s)'%key] = value\n",
    "    print (kpss_output)"
   ]
  },
  {
   "cell_type": "code",
   "execution_count": 50,
   "id": "218282bd",
   "metadata": {},
   "outputs": [
    {
     "name": "stdout",
     "output_type": "stream",
     "text": [
      "Results of KPSS Test:\n",
      "Test Statistic            3.180603\n",
      "p-value                   0.010000\n",
      "#Lags Used               65.000000\n",
      "Critical Value (10%)      0.347000\n",
      "Critical Value (5%)       0.463000\n",
      "Critical Value (2.5%)     0.574000\n",
      "Critical Value (1%)       0.739000\n",
      "dtype: float64\n"
     ]
    },
    {
     "name": "stderr",
     "output_type": "stream",
     "text": [
      "C:\\anaconda\\lib\\site-packages\\statsmodels\\tsa\\stattools.py:1906: InterpolationWarning: The test statistic is outside of the range of p-values available in the\n",
      "look-up table. The actual p-value is smaller than the p-value returned.\n",
      "\n",
      "  warnings.warn(\n"
     ]
    }
   ],
   "source": [
    "kpss_test(df[\"MCP\"])"
   ]
  },
  {
   "cell_type": "markdown",
   "id": "254e3671",
   "metadata": {},
   "source": [
    "### Test Statistic > Critical Value and p-value < 0.05. As a result, we reject the Null hypothesis Hence we conclude series is non-stationary"
   ]
  },
  {
   "cell_type": "markdown",
   "id": "682cf22b",
   "metadata": {},
   "source": [
    "## conclusion from both test"
   ]
  },
  {
   "cell_type": "markdown",
   "id": "850cb9f7",
   "metadata": {},
   "source": [
    "Case 1: Both tests conclude that the given series is stationary – The series is stationary\n",
    "\n",
    "Case 2: Both tests conclude that the given series is non-stationary – The series is non-stationary\n",
    "\n",
    "Case 3: ADF concludes non-stationary and KPSS concludes stationary – The series is trend stationary.To make the series strictly stationary, the trend needs to be removed in this case. Then the detrended series is checked for stationarity.\n",
    "\n",
    "Case 4: ADF concludes stationary and KPSS concludes non-stationary – The series is difference stationary.\n",
    "Differencing is to be used to make series stationary. Then the differenced series is checked for stationarity."
   ]
  },
  {
   "cell_type": "markdown",
   "id": "0d38fec3",
   "metadata": {},
   "source": [
    "### result - The series is difference stationary."
   ]
  },
  {
   "cell_type": "code",
   "execution_count": 51,
   "id": "745c8af6",
   "metadata": {},
   "outputs": [],
   "source": [
    "df[\"difference_MCP\"]=df[\"MCP\"]-df[\"MCP\"].shift(24) # similer pattern repeat after 24 hours"
   ]
  },
  {
   "cell_type": "code",
   "execution_count": 52,
   "id": "c3d52e5c",
   "metadata": {},
   "outputs": [
    {
     "data": {
      "text/html": [
       "<div>\n",
       "<style scoped>\n",
       "    .dataframe tbody tr th:only-of-type {\n",
       "        vertical-align: middle;\n",
       "    }\n",
       "\n",
       "    .dataframe tbody tr th {\n",
       "        vertical-align: top;\n",
       "    }\n",
       "\n",
       "    .dataframe thead th {\n",
       "        text-align: right;\n",
       "    }\n",
       "</style>\n",
       "<table border=\"1\" class=\"dataframe\">\n",
       "  <thead>\n",
       "    <tr style=\"text-align: right;\">\n",
       "      <th></th>\n",
       "      <th>Date | Hour Block</th>\n",
       "      <th>A1</th>\n",
       "      <th>A2</th>\n",
       "      <th>E1</th>\n",
       "      <th>E2</th>\n",
       "      <th>N1</th>\n",
       "      <th>N2</th>\n",
       "      <th>N3</th>\n",
       "      <th>S1</th>\n",
       "      <th>S2</th>\n",
       "      <th>S3</th>\n",
       "      <th>W1</th>\n",
       "      <th>W2</th>\n",
       "      <th>W3</th>\n",
       "      <th>MCP</th>\n",
       "      <th>difference_MCP</th>\n",
       "    </tr>\n",
       "    <tr>\n",
       "      <th>Total_Time</th>\n",
       "      <th></th>\n",
       "      <th></th>\n",
       "      <th></th>\n",
       "      <th></th>\n",
       "      <th></th>\n",
       "      <th></th>\n",
       "      <th></th>\n",
       "      <th></th>\n",
       "      <th></th>\n",
       "      <th></th>\n",
       "      <th></th>\n",
       "      <th></th>\n",
       "      <th></th>\n",
       "      <th></th>\n",
       "      <th></th>\n",
       "      <th></th>\n",
       "    </tr>\n",
       "  </thead>\n",
       "  <tbody>\n",
       "    <tr>\n",
       "      <th>25</th>\n",
       "      <td>02-01-19 00:00</td>\n",
       "      <td>2321.64</td>\n",
       "      <td>2321.64</td>\n",
       "      <td>2321.64</td>\n",
       "      <td>2321.64</td>\n",
       "      <td>2321.64</td>\n",
       "      <td>2321.64</td>\n",
       "      <td>2321.64</td>\n",
       "      <td>2321.64</td>\n",
       "      <td>2321.64</td>\n",
       "      <td>2321.64</td>\n",
       "      <td>2321.64</td>\n",
       "      <td>2321.64</td>\n",
       "      <td>2321.64</td>\n",
       "      <td>2321.64</td>\n",
       "      <td>NaN</td>\n",
       "    </tr>\n",
       "    <tr>\n",
       "      <th>26</th>\n",
       "      <td>02-01-19 01:00</td>\n",
       "      <td>1944.07</td>\n",
       "      <td>1944.07</td>\n",
       "      <td>1944.07</td>\n",
       "      <td>1944.07</td>\n",
       "      <td>1944.07</td>\n",
       "      <td>1944.07</td>\n",
       "      <td>1944.07</td>\n",
       "      <td>1944.07</td>\n",
       "      <td>1944.07</td>\n",
       "      <td>1944.07</td>\n",
       "      <td>1944.07</td>\n",
       "      <td>1944.07</td>\n",
       "      <td>1944.07</td>\n",
       "      <td>1944.07</td>\n",
       "      <td>NaN</td>\n",
       "    </tr>\n",
       "    <tr>\n",
       "      <th>27</th>\n",
       "      <td>02-01-19 02:00</td>\n",
       "      <td>1722.21</td>\n",
       "      <td>1722.21</td>\n",
       "      <td>1722.21</td>\n",
       "      <td>1722.21</td>\n",
       "      <td>1722.21</td>\n",
       "      <td>1722.21</td>\n",
       "      <td>1722.21</td>\n",
       "      <td>1722.21</td>\n",
       "      <td>1722.21</td>\n",
       "      <td>1722.21</td>\n",
       "      <td>1722.21</td>\n",
       "      <td>1722.21</td>\n",
       "      <td>1722.21</td>\n",
       "      <td>1722.21</td>\n",
       "      <td>NaN</td>\n",
       "    </tr>\n",
       "    <tr>\n",
       "      <th>28</th>\n",
       "      <td>02-01-19 03:00</td>\n",
       "      <td>1749.36</td>\n",
       "      <td>1749.36</td>\n",
       "      <td>1749.36</td>\n",
       "      <td>1749.36</td>\n",
       "      <td>1749.36</td>\n",
       "      <td>1749.36</td>\n",
       "      <td>1749.36</td>\n",
       "      <td>1749.36</td>\n",
       "      <td>1749.36</td>\n",
       "      <td>1749.36</td>\n",
       "      <td>1749.36</td>\n",
       "      <td>1749.36</td>\n",
       "      <td>1749.36</td>\n",
       "      <td>1749.36</td>\n",
       "      <td>NaN</td>\n",
       "    </tr>\n",
       "    <tr>\n",
       "      <th>29</th>\n",
       "      <td>02-01-19 04:00</td>\n",
       "      <td>1938.48</td>\n",
       "      <td>1938.48</td>\n",
       "      <td>1938.48</td>\n",
       "      <td>1938.48</td>\n",
       "      <td>1938.48</td>\n",
       "      <td>1938.48</td>\n",
       "      <td>1938.48</td>\n",
       "      <td>1938.48</td>\n",
       "      <td>1938.48</td>\n",
       "      <td>1938.48</td>\n",
       "      <td>1938.48</td>\n",
       "      <td>1938.48</td>\n",
       "      <td>1938.48</td>\n",
       "      <td>1938.48</td>\n",
       "      <td>NaN</td>\n",
       "    </tr>\n",
       "    <tr>\n",
       "      <th>...</th>\n",
       "      <td>...</td>\n",
       "      <td>...</td>\n",
       "      <td>...</td>\n",
       "      <td>...</td>\n",
       "      <td>...</td>\n",
       "      <td>...</td>\n",
       "      <td>...</td>\n",
       "      <td>...</td>\n",
       "      <td>...</td>\n",
       "      <td>...</td>\n",
       "      <td>...</td>\n",
       "      <td>...</td>\n",
       "      <td>...</td>\n",
       "      <td>...</td>\n",
       "      <td>...</td>\n",
       "      <td>...</td>\n",
       "    </tr>\n",
       "    <tr>\n",
       "      <th>23180</th>\n",
       "      <td>23-08-21 19:00</td>\n",
       "      <td>9770.61</td>\n",
       "      <td>9770.61</td>\n",
       "      <td>9770.61</td>\n",
       "      <td>9770.61</td>\n",
       "      <td>9770.61</td>\n",
       "      <td>9770.61</td>\n",
       "      <td>9770.61</td>\n",
       "      <td>9770.61</td>\n",
       "      <td>9770.61</td>\n",
       "      <td>9770.61</td>\n",
       "      <td>9770.61</td>\n",
       "      <td>9770.61</td>\n",
       "      <td>9770.61</td>\n",
       "      <td>9770.61</td>\n",
       "      <td>5791.15</td>\n",
       "    </tr>\n",
       "    <tr>\n",
       "      <th>23181</th>\n",
       "      <td>23-08-21 20:00</td>\n",
       "      <td>9011.34</td>\n",
       "      <td>9011.34</td>\n",
       "      <td>9011.34</td>\n",
       "      <td>9011.34</td>\n",
       "      <td>9011.34</td>\n",
       "      <td>9011.34</td>\n",
       "      <td>9011.34</td>\n",
       "      <td>9011.34</td>\n",
       "      <td>9011.34</td>\n",
       "      <td>9011.34</td>\n",
       "      <td>9011.34</td>\n",
       "      <td>9011.34</td>\n",
       "      <td>9011.34</td>\n",
       "      <td>9011.34</td>\n",
       "      <td>5021.72</td>\n",
       "    </tr>\n",
       "    <tr>\n",
       "      <th>23182</th>\n",
       "      <td>23-08-21 21:00</td>\n",
       "      <td>8962.14</td>\n",
       "      <td>8962.14</td>\n",
       "      <td>8962.14</td>\n",
       "      <td>8962.14</td>\n",
       "      <td>8962.14</td>\n",
       "      <td>8962.14</td>\n",
       "      <td>8962.14</td>\n",
       "      <td>8962.14</td>\n",
       "      <td>8962.14</td>\n",
       "      <td>8962.14</td>\n",
       "      <td>8962.14</td>\n",
       "      <td>8962.14</td>\n",
       "      <td>8962.14</td>\n",
       "      <td>8962.14</td>\n",
       "      <td>4942.74</td>\n",
       "    </tr>\n",
       "    <tr>\n",
       "      <th>23183</th>\n",
       "      <td>23-08-21 22:00</td>\n",
       "      <td>8417.83</td>\n",
       "      <td>8417.83</td>\n",
       "      <td>8417.83</td>\n",
       "      <td>8417.83</td>\n",
       "      <td>8417.83</td>\n",
       "      <td>8417.83</td>\n",
       "      <td>8417.83</td>\n",
       "      <td>8417.83</td>\n",
       "      <td>8417.83</td>\n",
       "      <td>8417.83</td>\n",
       "      <td>8417.83</td>\n",
       "      <td>8417.83</td>\n",
       "      <td>8417.83</td>\n",
       "      <td>8417.83</td>\n",
       "      <td>4638.80</td>\n",
       "    </tr>\n",
       "    <tr>\n",
       "      <th>23184</th>\n",
       "      <td>23-08-21 23:00</td>\n",
       "      <td>4892.08</td>\n",
       "      <td>4892.08</td>\n",
       "      <td>4892.08</td>\n",
       "      <td>4892.08</td>\n",
       "      <td>4892.08</td>\n",
       "      <td>4892.08</td>\n",
       "      <td>4892.08</td>\n",
       "      <td>4892.08</td>\n",
       "      <td>4892.08</td>\n",
       "      <td>4892.08</td>\n",
       "      <td>4892.08</td>\n",
       "      <td>4892.08</td>\n",
       "      <td>4892.08</td>\n",
       "      <td>4892.08</td>\n",
       "      <td>1367.36</td>\n",
       "    </tr>\n",
       "  </tbody>\n",
       "</table>\n",
       "<p>23160 rows × 16 columns</p>\n",
       "</div>"
      ],
      "text/plain": [
       "           Date | Hour Block       A1       A2       E1       E2       N1  \\\n",
       "Total_Time                                                                  \n",
       "25            02-01-19 00:00  2321.64  2321.64  2321.64  2321.64  2321.64   \n",
       "26            02-01-19 01:00  1944.07  1944.07  1944.07  1944.07  1944.07   \n",
       "27            02-01-19 02:00  1722.21  1722.21  1722.21  1722.21  1722.21   \n",
       "28            02-01-19 03:00  1749.36  1749.36  1749.36  1749.36  1749.36   \n",
       "29            02-01-19 04:00  1938.48  1938.48  1938.48  1938.48  1938.48   \n",
       "...                      ...      ...      ...      ...      ...      ...   \n",
       "23180         23-08-21 19:00  9770.61  9770.61  9770.61  9770.61  9770.61   \n",
       "23181         23-08-21 20:00  9011.34  9011.34  9011.34  9011.34  9011.34   \n",
       "23182         23-08-21 21:00  8962.14  8962.14  8962.14  8962.14  8962.14   \n",
       "23183         23-08-21 22:00  8417.83  8417.83  8417.83  8417.83  8417.83   \n",
       "23184         23-08-21 23:00  4892.08  4892.08  4892.08  4892.08  4892.08   \n",
       "\n",
       "                 N2       N3       S1       S2       S3       W1       W2  \\\n",
       "Total_Time                                                                  \n",
       "25          2321.64  2321.64  2321.64  2321.64  2321.64  2321.64  2321.64   \n",
       "26          1944.07  1944.07  1944.07  1944.07  1944.07  1944.07  1944.07   \n",
       "27          1722.21  1722.21  1722.21  1722.21  1722.21  1722.21  1722.21   \n",
       "28          1749.36  1749.36  1749.36  1749.36  1749.36  1749.36  1749.36   \n",
       "29          1938.48  1938.48  1938.48  1938.48  1938.48  1938.48  1938.48   \n",
       "...             ...      ...      ...      ...      ...      ...      ...   \n",
       "23180       9770.61  9770.61  9770.61  9770.61  9770.61  9770.61  9770.61   \n",
       "23181       9011.34  9011.34  9011.34  9011.34  9011.34  9011.34  9011.34   \n",
       "23182       8962.14  8962.14  8962.14  8962.14  8962.14  8962.14  8962.14   \n",
       "23183       8417.83  8417.83  8417.83  8417.83  8417.83  8417.83  8417.83   \n",
       "23184       4892.08  4892.08  4892.08  4892.08  4892.08  4892.08  4892.08   \n",
       "\n",
       "                 W3      MCP  difference_MCP  \n",
       "Total_Time                                    \n",
       "25          2321.64  2321.64             NaN  \n",
       "26          1944.07  1944.07             NaN  \n",
       "27          1722.21  1722.21             NaN  \n",
       "28          1749.36  1749.36             NaN  \n",
       "29          1938.48  1938.48             NaN  \n",
       "...             ...      ...             ...  \n",
       "23180       9770.61  9770.61         5791.15  \n",
       "23181       9011.34  9011.34         5021.72  \n",
       "23182       8962.14  8962.14         4942.74  \n",
       "23183       8417.83  8417.83         4638.80  \n",
       "23184       4892.08  4892.08         1367.36  \n",
       "\n",
       "[23160 rows x 16 columns]"
      ]
     },
     "execution_count": 52,
     "metadata": {},
     "output_type": "execute_result"
    }
   ],
   "source": [
    "df"
   ]
  },
  {
   "cell_type": "code",
   "execution_count": 53,
   "id": "e62c59a5",
   "metadata": {},
   "outputs": [],
   "source": [
    "df.dropna(axis=0,inplace=True)"
   ]
  },
  {
   "cell_type": "markdown",
   "id": "47eb565e",
   "metadata": {},
   "source": [
    "### differenced series is checked for stationarity."
   ]
  },
  {
   "cell_type": "code",
   "execution_count": 54,
   "id": "13b2949e",
   "metadata": {},
   "outputs": [
    {
     "name": "stdout",
     "output_type": "stream",
     "text": [
      "ADF Test Statistic : -29.559635568671677\n",
      "p-value : 0.0\n",
      "#Lags Used : 47\n",
      "Number of Observations Used : 23088\n",
      "strong evidence against the null hypothesis(Ho), reject the null hypothesis. Data has no unit root and is stationary\n"
     ]
    }
   ],
   "source": [
    "#Ho: It is non stationary\n",
    "#H1: It is stationary\n",
    "\n",
    "def adfuller_test(mcp):\n",
    "    result=adfuller(mcp)\n",
    "    labels = ['ADF Test Statistic','p-value','#Lags Used','Number of Observations Used']\n",
    "    for value,label in zip(result,labels,):\n",
    "        print(label+' : '+str(value) )\n",
    "    if result[1] <= 0.05:\n",
    "        print(\"strong evidence against the null hypothesis(Ho), reject the null hypothesis. Data has no unit root and is stationary\")\n",
    "    else:\n",
    "        print(\"weak evidence against null hypothesis, time series has a unit root, indicating it is non-stationary \")\n",
    "\n",
    "adfuller_test(df[\"difference_MCP\"])"
   ]
  },
  {
   "cell_type": "code",
   "execution_count": 55,
   "id": "829296b8",
   "metadata": {},
   "outputs": [],
   "source": [
    "#Null Hypothesis (HO): Series is trend stationary or series has no unit root\n",
    "#Alternate Hypothesis(HA): Series is non-stationary or series has a unit root.\n",
    "def kpss_test(timeseries):\n",
    "    print ('Results of KPSS Test:')\n",
    "    kpsstest = kpss(timeseries, regression='ct', nlags=\"auto\")\n",
    "    kpss_output = pd.Series(kpsstest[0:3], index=['Test Statistic','p-value','#Lags Used'])\n",
    "    for key,value in kpsstest[3].items():\n",
    "        kpss_output['Critical Value (%s)'%key] = value\n",
    "    print (kpss_output)"
   ]
  },
  {
   "cell_type": "code",
   "execution_count": 56,
   "id": "6ac55459",
   "metadata": {},
   "outputs": [
    {
     "ename": "SyntaxError",
     "evalue": "invalid syntax (<ipython-input-56-5baa95ff7c9a>, line 1)",
     "output_type": "error",
     "traceback": [
      "\u001b[1;36m  File \u001b[1;32m\"<ipython-input-56-5baa95ff7c9a>\"\u001b[1;36m, line \u001b[1;32m1\u001b[0m\n\u001b[1;33m    kpss_test(df[\"difference_MCP\"])fig = plt.figure(figsize=(12,8))\u001b[0m\n\u001b[1;37m                                   ^\u001b[0m\n\u001b[1;31mSyntaxError\u001b[0m\u001b[1;31m:\u001b[0m invalid syntax\n"
     ]
    }
   ],
   "source": [
    "kpss_test(df[\"difference_MCP\"])fig = plt.figure(figsize=(12,8))\n",
    "ax1 = fig.add_subplot(211)\n",
    "fig = sm.graphics.tsa.plot_acf(df['Seasonal First Difference'].iloc[13:],lags=40,ax=ax1)\n",
    "ax2 = fig.add_subplot(212)\n",
    "fig = sm.graphics.tsa.plot_pacf(df['Seasonal First Difference'].iloc[13:],lags=40,ax=ax2)"
   ]
  },
  {
   "cell_type": "markdown",
   "id": "241090c1",
   "metadata": {},
   "source": [
    "#### Test Statistic < Critical Value and p-value > 0.05. As a result, we reject the Null hypothesis Hence we conclude series is stationary"
   ]
  },
  {
   "cell_type": "markdown",
   "id": "22068d2b",
   "metadata": {},
   "source": [
    "#### Both tests conclude that the given differenced series is stationary – The series is stationary"
   ]
  },
  {
   "cell_type": "markdown",
   "id": "30440ed0",
   "metadata": {},
   "source": [
    "# ACF and PACF plots"
   ]
  },
  {
   "cell_type": "code",
   "execution_count": null,
   "id": "b27596fa",
   "metadata": {},
   "outputs": [],
   "source": [
    "from statsmodels.graphics.tsaplots import plot_acf,plot_pacf\n",
    "import statsmodels.api as sm"
   ]
  },
  {
   "cell_type": "code",
   "execution_count": null,
   "id": "9dd63129",
   "metadata": {},
   "outputs": [],
   "source": [
    "fig = plt.figure(figsize=(12,8))\n",
    "ax1 = fig.add_subplot(211)\n",
    "fig = sm.graphics.tsa.plot_acf(df['difference_MCP'].iloc[13:],lags=40,ax=ax1)\n",
    "ax2 = fig.add_subplot(212)\n",
    "fig = sm.graphics.tsa.plot_pacf(df['difference_MCP'].iloc[13:],lags=40,ax=ax2)"
   ]
  },
  {
   "cell_type": "markdown",
   "id": "b4a8fa23",
   "metadata": {},
   "source": [
    "### Final Thoughts on Autocorrelation and Partial Autocorrelation\n"
   ]
  },
  {
   "cell_type": "markdown",
   "id": "b6eadd1f",
   "metadata": {},
   "source": [
    "#### Identification of an AR model is often best done with the PACF.\n",
    "      For an AR model, the theoretical PACF “shuts off” past the order of the model. The phrase “shuts off” means that in     \n",
    "      theory the partial autocorrelations are equal to 0 beyond that point. Put another way, the number of non-zero partial  \n",
    "      autocorrelations gives the order of the AR model. By the “order of the model” we mean the most extreme lag of x that \n",
    "      is used as a predictor.\n"
   ]
  },
  {
   "cell_type": "markdown",
   "id": "3654fa26",
   "metadata": {},
   "source": [
    "#### Identification of an MA model is often best done with the ACF rather than the PACF.\n",
    "\n",
    "      For an MA model, the theoretical PACF does not shut off, but instead tapers toward 0 in some manner. A clearer\n",
    "      pattern for an MA model is in the ACF. The ACF will have non-zero autocorrelations only at lags involved in \n",
    "      the model.\n",
    "      p,d,q p AR model lags d differencing q MA lags"
   ]
  },
  {
   "cell_type": "code",
   "execution_count": null,
   "id": "3cc26ca7",
   "metadata": {},
   "outputs": [],
   "source": [
    "#leg value for AR model p=2(from pacf graph) and leg values for MA model using pacf (q=10)"
   ]
  },
  {
   "cell_type": "code",
   "execution_count": null,
   "id": "2de670ff",
   "metadata": {},
   "outputs": [],
   "source": []
  }
 ],
 "metadata": {
  "kernelspec": {
   "display_name": "Python 3",
   "language": "python",
   "name": "python3"
  },
  "language_info": {
   "codemirror_mode": {
    "name": "ipython",
    "version": 3
   },
   "file_extension": ".py",
   "mimetype": "text/x-python",
   "name": "python",
   "nbconvert_exporter": "python",
   "pygments_lexer": "ipython3",
   "version": "3.8.8"
  }
 },
 "nbformat": 4,
 "nbformat_minor": 5
}
